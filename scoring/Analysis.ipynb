{
 "cells": [
  {
   "cell_type": "code",
   "execution_count": 34,
   "id": "c93a5750",
   "metadata": {},
   "outputs": [],
   "source": [
    "import torch\n",
    "import pandas as pd\n",
    "import numpy as np\n",
    "import sklearn\n",
    "from sklearn.metrics import accuracy_score, recall_score, precision_score, f1_score"
   ]
  },
  {
   "cell_type": "code",
   "execution_count": 35,
   "id": "d079d11e",
   "metadata": {},
   "outputs": [],
   "source": [
    "#change the following paths for the test files and reference files\n",
    "REF_TEST_MD = '/scratch/ankita.maity/LeWiDi/refs/test_ref_md.tsv'\n",
    "REF_TEST_ARMIS = '/scratch/ankita.maity/LeWiDi/refs/test_ref_armis.tsv'\n",
    "REF_TEST_BREXIT = '/scratch/ankita.maity/LeWiDi/refs/test_ref_brexit.tsv'\n",
    "TEST_ARMIS = '/scratch/ankita.maity/res/ArMIS_results.tsv'\n",
    "TEST_BREXIT = '/scratch/ankita.maity/res/HS-Brexit_results.tsv'\n",
    "TEST_MD = '/scratch/ankita.maity/res/MD-Agreement_results.tsv'"
   ]
  },
  {
   "cell_type": "code",
   "execution_count": 37,
   "id": "fbd21d02",
   "metadata": {},
   "outputs": [],
   "source": [
    "ref_brexit = pd.read_csv(f'{REF_TEST_BREXIT}',header=None, sep=\"\\t\")\n",
    "ref_armis = pd.read_csv(f'{REF_TEST_ARMIS}', header=None, sep=\"\\t\")\n",
    "ref_md = pd.read_csv(f'{REF_TEST_MD}',header=None, sep=\"\\t\")"
   ]
  },
  {
   "cell_type": "code",
   "execution_count": 70,
   "id": "8f01f26b",
   "metadata": {},
   "outputs": [],
   "source": [
    "pred_brexit = pd.read_csv(f'{TEST_BREXIT}',header=None, sep=\"\\t\")\n",
    "pred_armis = pd.read_csv(f'{TEST_ARMIS}', header=None, sep=\"\\t\")\n",
    "pred_md = pd.read_csv(f'{TEST_MD}',header=None, sep=\"\\t\")"
   ]
  },
  {
   "cell_type": "code",
   "execution_count": 29,
   "id": "65e791e0",
   "metadata": {},
   "outputs": [],
   "source": [
    "#obvious cases that were predicted incorrectly\n",
    "c = 0 #total wrong predictions\n",
    "c_shouldve = 0 #obvious cases that were predicted incorrectly\n",
    "\n",
    "for i in range(len(ref_md)):\n",
    "    if ref_md[0][i]!=pred_md[0][i]:\n",
    "        if (ref_md[1][i]>0.75 or ref_md[1][i]<0.25):\n",
    "            c_shouldve=c_shouldve+1\n",
    "        c=c+1"
   ]
  },
  {
   "cell_type": "code",
   "execution_count": 77,
   "id": "af562463",
   "metadata": {},
   "outputs": [],
   "source": [
    "#difficult cases that were predicted correctly\n",
    "c_notobv = 0 #less obvious cases\n",
    "c = 0 #correct predictions from the less obvious cases\n",
    "for i in range(len(ref_md)):\n",
    "    if abs(ref_md[1][i] - ref_md[2][i])<0.35:\n",
    "        c_notobv=c_notobv+1\n",
    "        if(ref_md[0][i]==pred_md[0][i]):\n",
    "            c=c+1\n",
    "        "
   ]
  }
 ],
 "metadata": {
  "kernelspec": {
   "display_name": "Python 3 (ipykernel)",
   "language": "python",
   "name": "python3"
  },
  "language_info": {
   "codemirror_mode": {
    "name": "ipython",
    "version": 3
   },
   "file_extension": ".py",
   "mimetype": "text/x-python",
   "name": "python",
   "nbconvert_exporter": "python",
   "pygments_lexer": "ipython3",
   "version": "3.9.16"
  }
 },
 "nbformat": 4,
 "nbformat_minor": 5
}
